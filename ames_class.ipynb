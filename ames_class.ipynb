{
 "cells": [
  {
   "cell_type": "code",
   "execution_count": 21,
   "metadata": {},
   "outputs": [],
   "source": [
    "# begning with importing the necssary libraries\n",
    "import numpy as np\n",
    "import matplotlib.pyplot as plt\n",
    "import pandas as pd\n",
    "import seaborn as sns\n",
    "\n",
    "#importing all the neccessary libraries "
   ]
  },
  {
   "cell_type": "code",
   "execution_count": 22,
   "metadata": {},
   "outputs": [],
   "source": [
    "ames_url = 'https://raw.githubusercontent.com/wblakecannon/ames/master/data/housing.csv'\n",
    "\n",
    "ames = pd.read_csv(ames_url)\n",
    "# here we have imported the required dataset"
   ]
  },
  {
   "cell_type": "markdown",
   "metadata": {},
   "source": [
    "> the significance of writing ames_ df is that so that we know that it is dataframe "
   ]
  },
  {
   "cell_type": "code",
   "execution_count": 23,
   "metadata": {},
   "outputs": [
    {
     "data": {
      "text/html": [
       "<div>\n",
       "<style scoped>\n",
       "    .dataframe tbody tr th:only-of-type {\n",
       "        vertical-align: middle;\n",
       "    }\n",
       "\n",
       "    .dataframe tbody tr th {\n",
       "        vertical-align: top;\n",
       "    }\n",
       "\n",
       "    .dataframe thead th {\n",
       "        text-align: right;\n",
       "    }\n",
       "</style>\n",
       "<table border=\"1\" class=\"dataframe\">\n",
       "  <thead>\n",
       "    <tr style=\"text-align: right;\">\n",
       "      <th></th>\n",
       "      <th>Unnamed: 0</th>\n",
       "      <th>Order</th>\n",
       "      <th>PID</th>\n",
       "      <th>MS SubClass</th>\n",
       "      <th>MS Zoning</th>\n",
       "      <th>Lot Frontage</th>\n",
       "      <th>Lot Area</th>\n",
       "      <th>Street</th>\n",
       "      <th>Alley</th>\n",
       "      <th>Lot Shape</th>\n",
       "      <th>...</th>\n",
       "      <th>Pool Area</th>\n",
       "      <th>Pool QC</th>\n",
       "      <th>Fence</th>\n",
       "      <th>Misc Feature</th>\n",
       "      <th>Misc Val</th>\n",
       "      <th>Mo Sold</th>\n",
       "      <th>Yr Sold</th>\n",
       "      <th>Sale Type</th>\n",
       "      <th>Sale Condition</th>\n",
       "      <th>SalePrice</th>\n",
       "    </tr>\n",
       "  </thead>\n",
       "  <tbody>\n",
       "    <tr>\n",
       "      <th>0</th>\n",
       "      <td>0</td>\n",
       "      <td>1</td>\n",
       "      <td>526301100</td>\n",
       "      <td>20</td>\n",
       "      <td>RL</td>\n",
       "      <td>141.0</td>\n",
       "      <td>31770</td>\n",
       "      <td>Pave</td>\n",
       "      <td>NaN</td>\n",
       "      <td>IR1</td>\n",
       "      <td>...</td>\n",
       "      <td>0</td>\n",
       "      <td>NaN</td>\n",
       "      <td>NaN</td>\n",
       "      <td>NaN</td>\n",
       "      <td>0</td>\n",
       "      <td>5</td>\n",
       "      <td>2010</td>\n",
       "      <td>WD</td>\n",
       "      <td>Normal</td>\n",
       "      <td>215000</td>\n",
       "    </tr>\n",
       "    <tr>\n",
       "      <th>1</th>\n",
       "      <td>1</td>\n",
       "      <td>2</td>\n",
       "      <td>526350040</td>\n",
       "      <td>20</td>\n",
       "      <td>RH</td>\n",
       "      <td>80.0</td>\n",
       "      <td>11622</td>\n",
       "      <td>Pave</td>\n",
       "      <td>NaN</td>\n",
       "      <td>Reg</td>\n",
       "      <td>...</td>\n",
       "      <td>0</td>\n",
       "      <td>NaN</td>\n",
       "      <td>MnPrv</td>\n",
       "      <td>NaN</td>\n",
       "      <td>0</td>\n",
       "      <td>6</td>\n",
       "      <td>2010</td>\n",
       "      <td>WD</td>\n",
       "      <td>Normal</td>\n",
       "      <td>105000</td>\n",
       "    </tr>\n",
       "    <tr>\n",
       "      <th>2</th>\n",
       "      <td>2</td>\n",
       "      <td>3</td>\n",
       "      <td>526351010</td>\n",
       "      <td>20</td>\n",
       "      <td>RL</td>\n",
       "      <td>81.0</td>\n",
       "      <td>14267</td>\n",
       "      <td>Pave</td>\n",
       "      <td>NaN</td>\n",
       "      <td>IR1</td>\n",
       "      <td>...</td>\n",
       "      <td>0</td>\n",
       "      <td>NaN</td>\n",
       "      <td>NaN</td>\n",
       "      <td>Gar2</td>\n",
       "      <td>12500</td>\n",
       "      <td>6</td>\n",
       "      <td>2010</td>\n",
       "      <td>WD</td>\n",
       "      <td>Normal</td>\n",
       "      <td>172000</td>\n",
       "    </tr>\n",
       "    <tr>\n",
       "      <th>3</th>\n",
       "      <td>3</td>\n",
       "      <td>4</td>\n",
       "      <td>526353030</td>\n",
       "      <td>20</td>\n",
       "      <td>RL</td>\n",
       "      <td>93.0</td>\n",
       "      <td>11160</td>\n",
       "      <td>Pave</td>\n",
       "      <td>NaN</td>\n",
       "      <td>Reg</td>\n",
       "      <td>...</td>\n",
       "      <td>0</td>\n",
       "      <td>NaN</td>\n",
       "      <td>NaN</td>\n",
       "      <td>NaN</td>\n",
       "      <td>0</td>\n",
       "      <td>4</td>\n",
       "      <td>2010</td>\n",
       "      <td>WD</td>\n",
       "      <td>Normal</td>\n",
       "      <td>244000</td>\n",
       "    </tr>\n",
       "    <tr>\n",
       "      <th>4</th>\n",
       "      <td>4</td>\n",
       "      <td>5</td>\n",
       "      <td>527105010</td>\n",
       "      <td>60</td>\n",
       "      <td>RL</td>\n",
       "      <td>74.0</td>\n",
       "      <td>13830</td>\n",
       "      <td>Pave</td>\n",
       "      <td>NaN</td>\n",
       "      <td>IR1</td>\n",
       "      <td>...</td>\n",
       "      <td>0</td>\n",
       "      <td>NaN</td>\n",
       "      <td>MnPrv</td>\n",
       "      <td>NaN</td>\n",
       "      <td>0</td>\n",
       "      <td>3</td>\n",
       "      <td>2010</td>\n",
       "      <td>WD</td>\n",
       "      <td>Normal</td>\n",
       "      <td>189900</td>\n",
       "    </tr>\n",
       "  </tbody>\n",
       "</table>\n",
       "<p>5 rows × 83 columns</p>\n",
       "</div>"
      ],
      "text/plain": [
       "   Unnamed: 0  Order        PID  MS SubClass MS Zoning  Lot Frontage  \\\n",
       "0           0      1  526301100           20        RL         141.0   \n",
       "1           1      2  526350040           20        RH          80.0   \n",
       "2           2      3  526351010           20        RL          81.0   \n",
       "3           3      4  526353030           20        RL          93.0   \n",
       "4           4      5  527105010           60        RL          74.0   \n",
       "\n",
       "   Lot Area Street Alley Lot Shape  ... Pool Area Pool QC  Fence Misc Feature  \\\n",
       "0     31770   Pave   NaN       IR1  ...         0     NaN    NaN          NaN   \n",
       "1     11622   Pave   NaN       Reg  ...         0     NaN  MnPrv          NaN   \n",
       "2     14267   Pave   NaN       IR1  ...         0     NaN    NaN         Gar2   \n",
       "3     11160   Pave   NaN       Reg  ...         0     NaN    NaN          NaN   \n",
       "4     13830   Pave   NaN       IR1  ...         0     NaN  MnPrv          NaN   \n",
       "\n",
       "  Misc Val Mo Sold Yr Sold Sale Type Sale Condition  SalePrice  \n",
       "0        0       5    2010       WD          Normal     215000  \n",
       "1        0       6    2010       WD          Normal     105000  \n",
       "2    12500       6    2010       WD          Normal     172000  \n",
       "3        0       4    2010       WD          Normal     244000  \n",
       "4        0       3    2010       WD          Normal     189900  \n",
       "\n",
       "[5 rows x 83 columns]"
      ]
     },
     "execution_count": 23,
     "metadata": {},
     "output_type": "execute_result"
    }
   ],
   "source": [
    "ames.head(5)"
   ]
  },
  {
   "cell_type": "markdown",
   "metadata": {},
   "source": [
    "Examine shape and its columns. Identify target column. Plot histogram and mean, immediately below place boxplot with mean Q1Q2Q3 and extreme values (lower & higher) \n",
    "\n",
    "From the columns select a few important feature"
   ]
  },
  {
   "cell_type": "code",
   "execution_count": 24,
   "metadata": {},
   "outputs": [
    {
     "data": {
      "text/plain": [
       "(2930, 83)"
      ]
     },
     "execution_count": 24,
     "metadata": {},
     "output_type": "execute_result"
    }
   ],
   "source": [
    "ames.shape\n",
    "\n"
   ]
  },
  {
   "cell_type": "code",
   "execution_count": 25,
   "metadata": {},
   "outputs": [
    {
     "data": {
      "text/plain": [
       "array(['1st Flr SF', '2nd Flr SF', '3Ssn Porch', 'Alley', 'Bedroom AbvGr',\n",
       "       'Bldg Type', 'Bsmt Cond', 'Bsmt Exposure', 'Bsmt Full Bath',\n",
       "       'Bsmt Half Bath', 'Bsmt Qual', 'Bsmt Unf SF', 'BsmtFin SF 1',\n",
       "       'BsmtFin SF 2', 'BsmtFin Type 1', 'BsmtFin Type 2', 'Central Air',\n",
       "       'Condition 1', 'Condition 2', 'Electrical', 'Enclosed Porch',\n",
       "       'Exter Cond', 'Exter Qual', 'Exterior 1st', 'Exterior 2nd',\n",
       "       'Fence', 'Fireplace Qu', 'Fireplaces', 'Foundation', 'Full Bath',\n",
       "       'Functional', 'Garage Area', 'Garage Cars', 'Garage Cond',\n",
       "       'Garage Finish', 'Garage Qual', 'Garage Type', 'Garage Yr Blt',\n",
       "       'Gr Liv Area', 'Half Bath', 'Heating', 'Heating QC', 'House Style',\n",
       "       'Kitchen AbvGr', 'Kitchen Qual', 'Land Contour', 'Land Slope',\n",
       "       'Lot Area', 'Lot Config', 'Lot Frontage', 'Lot Shape',\n",
       "       'Low Qual Fin SF', 'MS SubClass', 'MS Zoning', 'Mas Vnr Area',\n",
       "       'Mas Vnr Type', 'Misc Feature', 'Misc Val', 'Mo Sold',\n",
       "       'Neighborhood', 'Open Porch SF', 'Order', 'Overall Cond',\n",
       "       'Overall Qual', 'PID', 'Paved Drive', 'Pool Area', 'Pool QC',\n",
       "       'Roof Matl', 'Roof Style', 'Sale Condition', 'Sale Type',\n",
       "       'SalePrice', 'Screen Porch', 'Street', 'TotRms AbvGrd',\n",
       "       'Total Bsmt SF', 'Unnamed: 0', 'Utilities', 'Wood Deck SF',\n",
       "       'Year Built', 'Year Remod/Add', 'Yr Sold'], dtype='<U15')"
      ]
     },
     "execution_count": 25,
     "metadata": {},
     "output_type": "execute_result"
    }
   ],
   "source": [
    "np.hstack(sorted(ames))\n",
    "# the hpstack horizontally stacks tha arrays in the horizontal order \n",
    "# Also it displayes the same number of rows matching the list\n",
    "# there is a difference betweeen sort and sorted as sorted sorts the for the temporary basis"
   ]
  },
  {
   "cell_type": "code",
   "execution_count": 26,
   "metadata": {},
   "outputs": [
    {
     "data": {
      "text/plain": [
       "(2930, 83)"
      ]
     },
     "execution_count": 26,
     "metadata": {},
     "output_type": "execute_result"
    }
   ],
   "source": [
    "rows,columns  = ames.shape\n",
    "rows,columns"
   ]
  },
  {
   "cell_type": "code",
   "execution_count": 27,
   "metadata": {},
   "outputs": [
    {
     "name": "stdout",
     "output_type": "stream",
     "text": [
      "<class 'pandas.core.frame.DataFrame'>\n",
      "RangeIndex: 2930 entries, 0 to 2929\n",
      "Data columns (total 83 columns):\n",
      " #   Column           Non-Null Count  Dtype  \n",
      "---  ------           --------------  -----  \n",
      " 0   Unnamed: 0       2930 non-null   int64  \n",
      " 1   Order            2930 non-null   int64  \n",
      " 2   PID              2930 non-null   int64  \n",
      " 3   MS SubClass      2930 non-null   int64  \n",
      " 4   MS Zoning        2930 non-null   object \n",
      " 5   Lot Frontage     2440 non-null   float64\n",
      " 6   Lot Area         2930 non-null   int64  \n",
      " 7   Street           2930 non-null   object \n",
      " 8   Alley            198 non-null    object \n",
      " 9   Lot Shape        2930 non-null   object \n",
      " 10  Land Contour     2930 non-null   object \n",
      " 11  Utilities        2930 non-null   object \n",
      " 12  Lot Config       2930 non-null   object \n",
      " 13  Land Slope       2930 non-null   object \n",
      " 14  Neighborhood     2930 non-null   object \n",
      " 15  Condition 1      2930 non-null   object \n",
      " 16  Condition 2      2930 non-null   object \n",
      " 17  Bldg Type        2930 non-null   object \n",
      " 18  House Style      2930 non-null   object \n",
      " 19  Overall Qual     2930 non-null   int64  \n",
      " 20  Overall Cond     2930 non-null   int64  \n",
      " 21  Year Built       2930 non-null   int64  \n",
      " 22  Year Remod/Add   2930 non-null   int64  \n",
      " 23  Roof Style       2930 non-null   object \n",
      " 24  Roof Matl        2930 non-null   object \n",
      " 25  Exterior 1st     2930 non-null   object \n",
      " 26  Exterior 2nd     2930 non-null   object \n",
      " 27  Mas Vnr Type     1155 non-null   object \n",
      " 28  Mas Vnr Area     2907 non-null   float64\n",
      " 29  Exter Qual       2930 non-null   object \n",
      " 30  Exter Cond       2930 non-null   object \n",
      " 31  Foundation       2930 non-null   object \n",
      " 32  Bsmt Qual        2850 non-null   object \n",
      " 33  Bsmt Cond        2850 non-null   object \n",
      " 34  Bsmt Exposure    2847 non-null   object \n",
      " 35  BsmtFin Type 1   2850 non-null   object \n",
      " 36  BsmtFin SF 1     2929 non-null   float64\n",
      " 37  BsmtFin Type 2   2849 non-null   object \n",
      " 38  BsmtFin SF 2     2929 non-null   float64\n",
      " 39  Bsmt Unf SF      2929 non-null   float64\n",
      " 40  Total Bsmt SF    2929 non-null   float64\n",
      " 41  Heating          2930 non-null   object \n",
      " 42  Heating QC       2930 non-null   object \n",
      " 43  Central Air      2930 non-null   object \n",
      " 44  Electrical       2929 non-null   object \n",
      " 45  1st Flr SF       2930 non-null   int64  \n",
      " 46  2nd Flr SF       2930 non-null   int64  \n",
      " 47  Low Qual Fin SF  2930 non-null   int64  \n",
      " 48  Gr Liv Area      2930 non-null   int64  \n",
      " 49  Bsmt Full Bath   2928 non-null   float64\n",
      " 50  Bsmt Half Bath   2928 non-null   float64\n",
      " 51  Full Bath        2930 non-null   int64  \n",
      " 52  Half Bath        2930 non-null   int64  \n",
      " 53  Bedroom AbvGr    2930 non-null   int64  \n",
      " 54  Kitchen AbvGr    2930 non-null   int64  \n",
      " 55  Kitchen Qual     2930 non-null   object \n",
      " 56  TotRms AbvGrd    2930 non-null   int64  \n",
      " 57  Functional       2930 non-null   object \n",
      " 58  Fireplaces       2930 non-null   int64  \n",
      " 59  Fireplace Qu     1508 non-null   object \n",
      " 60  Garage Type      2773 non-null   object \n",
      " 61  Garage Yr Blt    2771 non-null   float64\n",
      " 62  Garage Finish    2771 non-null   object \n",
      " 63  Garage Cars      2929 non-null   float64\n",
      " 64  Garage Area      2929 non-null   float64\n",
      " 65  Garage Qual      2771 non-null   object \n",
      " 66  Garage Cond      2771 non-null   object \n",
      " 67  Paved Drive      2930 non-null   object \n",
      " 68  Wood Deck SF     2930 non-null   int64  \n",
      " 69  Open Porch SF    2930 non-null   int64  \n",
      " 70  Enclosed Porch   2930 non-null   int64  \n",
      " 71  3Ssn Porch       2930 non-null   int64  \n",
      " 72  Screen Porch     2930 non-null   int64  \n",
      " 73  Pool Area        2930 non-null   int64  \n",
      " 74  Pool QC          13 non-null     object \n",
      " 75  Fence            572 non-null    object \n",
      " 76  Misc Feature     106 non-null    object \n",
      " 77  Misc Val         2930 non-null   int64  \n",
      " 78  Mo Sold          2930 non-null   int64  \n",
      " 79  Yr Sold          2930 non-null   int64  \n",
      " 80  Sale Type        2930 non-null   object \n",
      " 81  Sale Condition   2930 non-null   object \n",
      " 82  SalePrice        2930 non-null   int64  \n",
      "dtypes: float64(11), int64(29), object(43)\n",
      "memory usage: 1.9+ MB\n"
     ]
    },
    {
     "ename": "TypeError",
     "evalue": "'NoneType' object is not iterable",
     "output_type": "error",
     "traceback": [
      "\u001b[0;31m---------------------------------------------------------------------------\u001b[0m",
      "\u001b[0;31mTypeError\u001b[0m                                 Traceback (most recent call last)",
      "Cell \u001b[0;32mIn[27], line 1\u001b[0m\n\u001b[0;32m----> 1\u001b[0m \u001b[38;5;28;43msorted\u001b[39;49m\u001b[43m(\u001b[49m\u001b[43mames\u001b[49m\u001b[38;5;241;43m.\u001b[39;49m\u001b[43minfo\u001b[49m\u001b[43m(\u001b[49m\u001b[43m)\u001b[49m\u001b[43m)\u001b[49m\n",
      "\u001b[0;31mTypeError\u001b[0m: 'NoneType' object is not iterable"
     ]
    }
   ],
   "source": [
    "sorted(ames.info())"
   ]
  },
  {
   "cell_type": "markdown",
   "metadata": {},
   "source": [
    "# The target values of this dataset is sale price "
   ]
  },
  {
   "cell_type": "markdown",
   "metadata": {},
   "source": [
    "Now we are first going to make the histplot for the target variable which is  sale price"
   ]
  },
  {
   "cell_type": "code",
   "execution_count": null,
   "metadata": {},
   "outputs": [
    {
     "data": {
      "text/plain": [
       "<matplotlib.lines.Line2D at 0x14e9645b0>"
      ]
     },
     "execution_count": 18,
     "metadata": {},
     "output_type": "execute_result"
    },
    {
     "data": {
      "image/png": "[encoded data removed]",
      "text/plain": [
       "<Figure size 640x480 with 1 Axes>"
      ]
     },
     "metadata": {},
     "output_type": "display_data"
    }
   ],
   "source": [
    "# first testing the data set thorugh the seaborn\n",
    "sns.histplot(ames ,  x = 'SalePrice',bins= rows)\n",
    "plt.axvline(x=ames['SalePrice'].mean(), color='red', linestyle='dashed', linewidth=1.5)\n",
    "plt.text(s =f\"mean of the sale price line\")"
   ]
  },
  {
   "cell_type": "code",
   "execution_count": null,
   "metadata": {},
   "outputs": [
    {
     "data": {
      "text/plain": [
       "<matplotlib.lines.Line2D at 0x174e5b1c0>"
      ]
     },
     "execution_count": 31,
     "metadata": {},
     "output_type": "execute_result"
    },
    {
     "data": {
      "image/png": "[encoded data removed]",
      "text/plain": [
       "<Figure size 640x480 with 1 Axes>"
      ]
     },
     "metadata": {},
     "output_type": "display_data"
    }
   ],
   "source": [
    "# now we are going to use a hist plot and matoplotlib to plot the same\n",
    "plt.hist(ames['SalePrice'] , bins = rows)\n",
    "# this will just make a plot for the variable\n",
    "plt.axvline( x= ames['SalePrice'].mean() , color = 'red' , linestyle = 'dotted' , linewidth = 2)\n",
    "# here we have made rhe "
   ]
  },
  {
   "cell_type": "code",
   "execution_count": null,
   "metadata": {},
   "outputs": [],
   "source": [
    "# plt.figure(figsize=(12,6))\n",
    "\n",
    "# plt.subplot(2, 1, 1)\n",
    "# plt.title(\"Sugar Levels Before\")\n",
    "# plt.axvline(x=sugar_before.mean(), color = 'green', linestyle = '--', linewidth = 0.5, animated = True)\n",
    "# plt.axvline(x=sug_b4_Q1, color = 'green', linestyle = '--', linewidth = 1.5, animated = True)\n",
    "# plt.text(s=f\"Q1 : {sug_b4_Q1:,.2f}\", x = 0.994*sug_b4_Q1, y = 5)\n",
    "# plt.text(s=f\"Q2 : {sug_b4_Q2:,.2f}\", x = 0.994*sug_b4_Q2, y = 5)\n",
    "# plt.text(s=f\"Q3 : {sug_b4_Q3:,.2f}\", x = 0.994*sug_b4_Q3, y = 5)\n",
    "# plt.axvline(x=sug_b4_Q2, color = 'red', linestyle = '--', linewidth = 1.5, animated = True)\n",
    "# plt.axvline(x=sug_b4_Q3, color = 'green', linestyle = '--', linewidth = 1.5, animated = True)\n",
    "\n",
    "# plt.hist(sugar_before, bins= size)\n",
    "# # plt.xlim(180,360)\n",
    "\n",
    "\n",
    "# plt.subplot(2,1,2)\n",
    "# plt.axvline(x=sugar_before.mean(), color = 'green', linestyle = '--', linewidth = 0.5, animated = True)\n",
    "# plt.axvline(x=sug_b4_Q1, color = 'red', linestyle = '--', linewidth = 1.5, animated = True)\n",
    "# # plt.text(s=f\"Q1 : {sug_b4_Q1:,.2f}\", x = 0.994*sug_b4_Q1, y = 20)\n",
    "# # plt.text(s=f\"Q2 : {sug_b4_Q2:,.2f}\", x = 0.994*sug_b4_Q2, y = 20)\n",
    "# # plt.text(s=f\"Q3 : {sug_b4_Q3:,.2f}\", x = 0.994*sug_b4_Q3, y = 20)\n",
    "# plt.axvline(x=sug_b4_Q2, color = 'green', linestyle = '--', linewidth = 1.5, animated = True)\n",
    "# plt.axvline(x=sug_b4_Q3, color = 'blue', linestyle = '--', linewidth = 1.5, animated = True)\n",
    "# plt.boxplot(sugar_before,orientation='horizontal',showmeans=True, meanline = False)\n",
    "# # plt.xlim(180,360)\n",
    "\n",
    "\n",
    "# plt.yticks(fontsize=8)\n",
    "# plt.xticks(fontsize=8)\n",
    "# plt.show()"
   ]
  },
  {
   "cell_type": "code",
   "execution_count": null,
   "metadata": {},
   "outputs": [],
   "source": []
  },
  {
   "cell_type": "code",
   "execution_count": null,
   "metadata": {},
   "outputs": [],
   "source": []
  }
 ],
 "metadata": {
  "kernelspec": {
   "display_name": "Python 3",
   "language": "python",
   "name": "python3"
  },
  "language_info": {
   "codemirror_mode": {
    "name": "ipython",
    "version": 3
   },
   "file_extension": ".py",
   "mimetype": "text/x-python",
   "name": "python",
   "nbconvert_exporter": "python",
   "pygments_lexer": "ipython3",
   "version": "3.9.6"
  }
 },
 "nbformat": 4,
 "nbformat_minor": 2
}
